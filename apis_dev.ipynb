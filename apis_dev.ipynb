{
 "cells": [
  {
   "cell_type": "code",
   "execution_count": 1,
   "id": "8bfcc113-a0d8-4754-a5a1-c7753eb4cf4e",
   "metadata": {},
   "outputs": [],
   "source": [
    "import requests as rq\n",
    "# http://www.geonames.org/export/geonames-search.html\n",
    "\n",
    "params = dict(\n",
    "    username=\"research_aids\",\n",
    "    q=\"amsterdam\",\n",
    "    maxRows=\"100\",\n",
    "    countryBias=\"nl\"\n",
    ")\n",
    "req = rq.get(\"http://api.geonames.org/search\", params=params) #, verify=False)"
   ]
  },
  {
   "cell_type": "code",
   "execution_count": 8,
   "id": "63b5fadc-371d-4e93-b418-d330f83e70a5",
   "metadata": {},
   "outputs": [
    {
     "data": {
      "text/plain": [
       "'http://api.geonames.org/search?username=research_aids&q=amsterdam&maxRows=100&countryBias=nl'"
      ]
     },
     "execution_count": 8,
     "metadata": {},
     "output_type": "execute_result"
    }
   ],
   "source": [
    "req.content.decode()\n",
    "\n",
    "req.url"
   ]
  },
  {
   "cell_type": "code",
   "execution_count": 6,
   "id": "9a02c2ee-4d13-4337-b74b-6969dc56f729",
   "metadata": {},
   "outputs": [],
   "source": [
    "req.url\n",
    "# http://api.geonames.org/search?q=london&maxRows=10&username=demo\n",
    "\n",
    "with open(\"test.xml\", \"w\") as handle:\n",
    "    handle.write(req.content.decode())"
   ]
  }
 ],
 "metadata": {
  "kernelspec": {
   "display_name": "Python 3 (ipykernel)",
   "language": "python",
   "name": "python3"
  },
  "language_info": {
   "codemirror_mode": {
    "name": "ipython",
    "version": 3
   },
   "file_extension": ".py",
   "mimetype": "text/x-python",
   "name": "python",
   "nbconvert_exporter": "python",
   "pygments_lexer": "ipython3",
   "version": "3.13.5"
  }
 },
 "nbformat": 4,
 "nbformat_minor": 5
}
